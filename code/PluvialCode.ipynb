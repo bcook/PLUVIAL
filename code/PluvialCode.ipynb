{
 "cells": [
  {
   "cell_type": "code",
   "execution_count": 1,
   "id": "8c4daf02-2aa6-43a4-bdb4-d4360f871347",
   "metadata": {},
   "outputs": [],
   "source": [
    "import xarray as xr\n",
    "import cartopy.crs as ccrs\n",
    "import matplotlib as mpl\n",
    "import matplotlib.pyplot as plt\n",
    "import matplotlib.cm as cm\n",
    "import numpy as np\n",
    "import pandas as pd\n",
    "import os\n",
    "os.environ['USE_PYGEOS'] = '0'\n",
    "import geopandas\n",
    "import regionmask\n",
    "from eofs.xarray import Eof\n",
    "import pymc as pm\n",
    "import pytensor.tensor as pt\n",
    "import arviz as az\n",
    "import glob\n",
    "import seaborn as sns\n",
    "sns.set_style(\"white\")\n",
    "\n",
    "import cartopy.feature as cfeature\n",
    "import matplotlib as mpl\n",
    "\n",
    "import statsmodels.api as sm\n",
    "np.random.seed(123)"
   ]
  },
  {
   "cell_type": "markdown",
   "id": "804c5787-90ba-4d66-9e9a-2bc902d1ea40",
   "metadata": {},
   "source": [
    "# Training and test periods\n",
    "Define the preindustrial period (for training) and recent historical period (for testing)"
   ]
  },
  {
   "cell_type": "code",
   "execution_count": 2,
   "id": "f2102a9f-7783-419b-b0d4-09c9f6bb175c",
   "metadata": {},
   "outputs": [],
   "source": [
    "pi_period=(800,1850)\n",
    "recent_period=(1850,2000)"
   ]
  },
  {
   "cell_type": "markdown",
   "id": "bdd9f70c-ad6b-4703-af65-aef0f58ecff5",
   "metadata": {},
   "source": [
    "# SST indices\n",
    "SST indices from the PHYDA dataset, downloaded and converted to csv by Ben Cook"
   ]
  },
  {
   "cell_type": "code",
   "execution_count": null,
   "id": "c56834e1-1481-439d-9e96-9601bc1cccd3",
   "metadata": {},
   "outputs": [],
   "source": [
    "sst_fit=np.zeros((4,1201,100))\n",
    "indices=[\"nino\",\"amo\",\"pdo\",\"gmt\"]\n",
    "i=0\n",
    "for index in indices:\n",
    "    fname=glob.glob(\"../DATA/BenPhyda/ensphyda/indices/ensphyda*\"+index+\"*\")[0]\n",
    "    csvdata=pd.read_csv(fname)\n",
    "    year=csvdata.values[:,0]\n",
    "    data=csvdata.values[:,1:]\n",
    "    \n",
    "    if index ==\"gmt\":\n",
    "        twentiethcenturymean=np.average(data[-101:],axis=0)[np.newaxis,:]\n",
    "        twentiethcenturystd=np.std(data[-101:],axis=0)[np.newaxis,:]\n",
    "        data=(data-twentiethcenturymean)/twentiethcenturystd\n",
    "    sst_fit[i]=data\n",
    "        \n",
    "    i+=1\n",
    "sst_fit=xr.DataArray(sst_fit,dims=(\"index\",\"year\",\"ens\"),\\\n",
    "                     coords={\"index\":indices,\"year\":year,\"ens\":np.arange(100)+1})\n",
    "    #sst_fit[i]=xr.DataArray(data,dims=(\"year\",\"ens\"),coords={\"year\":year,\"ens\":np.arange(100)+1})\n",
    "    "
   ]
  },
  {
   "cell_type": "code",
   "execution_count": 4,
   "id": "9eb112c5-646e-4684-9428-a13ac037d290",
   "metadata": {},
   "outputs": [],
   "source": [
    "fname=\"../DATA/BenPhyda/ensphyda/soilmoist/ensphyda_swna_pdsi_scaled_detrend.csv\"\n",
    "csvdata=pd.read_csv(fname)\n",
    "year=csvdata.values[:,0]\n",
    "data=csvdata.values[:,1:]\n",
    "soilmoisture=xr.DataArray(data,dims=(\"year\",\"ens\"),coords={\"year\":year,\"ens\":np.arange(100)+1})"
   ]
  },
  {
   "cell_type": "markdown",
   "id": "ee83ce0f-aa4d-4e82-8714-8e57f9bb1d0b",
   "metadata": {},
   "source": [
    "# ACCOUNTING FOR UNCERTAINTY IN THE ENSEMBLE"
   ]
  },
  {
   "cell_type": "code",
   "execution_count": 8,
   "id": "23292c2a-36ea-4cd4-95d5-383eca38fbf7",
   "metadata": {},
   "outputs": [
    {
     "name": "stderr",
     "output_type": "stream",
     "text": [
      "Sampling: [amo, amo_ensemble, amo_ensemble_recent, amo_recent, ar, beta_amo, beta_gmt, beta_nino, beta_pdo, gmt, gmt_ensemble, gmt_ensemble_recent, gmt_recent, lag_coefs, nino, nino_ensemble, nino_ensemble_recent, nino_recent, pdo, pdo_ensemble, pdo_ensemble_recent, pdo_recent, pi_sm, pi_sm_true, sigma]\n",
      "Auto-assigning NUTS sampler...\n",
      "Initializing NUTS using jitter+adapt_diag...\n",
      "Multiprocess sampling (4 chains in 4 jobs)\n",
      "NUTS: [nino, nino_recent, beta_nino, amo, amo_recent, beta_amo, pdo, pdo_recent, beta_pdo, gmt, gmt_recent, beta_gmt, lag_coefs, sigma, ar, pi_sm_true]\n"
     ]
    },
    {
     "data": {
      "text/html": [
       "\n",
       "<style>\n",
       "    /* Turns off some styling */\n",
       "    progress {\n",
       "        /* gets rid of default border in Firefox and Opera. */\n",
       "        border: none;\n",
       "        /* Needs to be in here for Safari polyfill so background images work as expected. */\n",
       "        background-size: auto;\n",
       "    }\n",
       "    progress:not([value]), progress:not([value])::-webkit-progress-bar {\n",
       "        background: repeating-linear-gradient(45deg, #7e7e7e, #7e7e7e 10px, #5c5c5c 10px, #5c5c5c 20px);\n",
       "    }\n",
       "    .progress-bar-interrupted, .progress-bar-interrupted::-webkit-progress-bar {\n",
       "        background: #F44336;\n",
       "    }\n",
       "</style>\n"
      ],
      "text/plain": [
       "<IPython.core.display.HTML object>"
      ]
     },
     "metadata": {},
     "output_type": "display_data"
    },
    {
     "data": {
      "text/html": [
       "\n",
       "    <div>\n",
       "      <progress value='12000' class='' max='12000' style='width:300px; height:20px; vertical-align: middle;'></progress>\n",
       "      100.00% [12000/12000 00:33&lt;00:00 Sampling 4 chains, 0 divergences]\n",
       "    </div>\n",
       "    "
      ],
      "text/plain": [
       "<IPython.core.display.HTML object>"
      ]
     },
     "metadata": {},
     "output_type": "display_data"
    },
    {
     "name": "stderr",
     "output_type": "stream",
     "text": [
      "Sampling 4 chains for 1_000 tune and 2_000 draw iterations (4_000 + 8_000 draws total) took 33 seconds.\n",
      "The rhat statistic is larger than 1.01 for some parameters. This indicates problems during sampling. See https://arxiv.org/abs/1903.08008 for details\n",
      "Sampling: [amo_ensemble, amo_ensemble_recent, gmt_ensemble, gmt_ensemble_recent, nino_ensemble, nino_ensemble_recent, pdo_ensemble, pdo_ensemble_recent, pi_sm]\n"
     ]
    },
    {
     "data": {
      "text/html": [
       "\n",
       "<style>\n",
       "    /* Turns off some styling */\n",
       "    progress {\n",
       "        /* gets rid of default border in Firefox and Opera. */\n",
       "        border: none;\n",
       "        /* Needs to be in here for Safari polyfill so background images work as expected. */\n",
       "        background-size: auto;\n",
       "    }\n",
       "    progress:not([value]), progress:not([value])::-webkit-progress-bar {\n",
       "        background: repeating-linear-gradient(45deg, #7e7e7e, #7e7e7e 10px, #5c5c5c 10px, #5c5c5c 20px);\n",
       "    }\n",
       "    .progress-bar-interrupted, .progress-bar-interrupted::-webkit-progress-bar {\n",
       "        background: #F44336;\n",
       "    }\n",
       "</style>\n"
      ],
      "text/plain": [
       "<IPython.core.display.HTML object>"
      ]
     },
     "metadata": {},
     "output_type": "display_data"
    },
    {
     "data": {
      "text/html": [
       "\n",
       "    <div>\n",
       "      <progress value='8000' class='' max='8000' style='width:300px; height:20px; vertical-align: middle;'></progress>\n",
       "      100.00% [8000/8000 00:01&lt;00:00]\n",
       "    </div>\n",
       "    "
      ],
      "text/plain": [
       "<IPython.core.display.HTML object>"
      ]
     },
     "metadata": {},
     "output_type": "display_data"
    }
   ],
   "source": [
    "pi_period=(800,1850)\n",
    "recent_period=(1850,2000)\n",
    "indices=[\"nino\",\"amo\",\"pdo\",\"gmt\"]\n",
    "\n",
    "# Specify priors\n",
    "nlags=2\n",
    "priors={\n",
    "    \"lag_coefs\": {\"mu\":np.tile(0,nlags),\"sigma\":np.tile(1,nlags),\"size\":nlags},\n",
    "    \"sigma\": 10,\n",
    "    \"init\":{\"mu\":0,\"sigma\":0.1,\"size\":1},\n",
    "    \"beta\":{\"amo\":{\"mu\":0,\"sigma\":10},\\\n",
    "            \"nino\":{\"mu\":0,\"sigma\":10},\\\n",
    "           \"gmt\":{\"mu\": 0 ,\"sigma\":10},\\\n",
    "            \"pdo\":{\"mu\": 0 ,\"sigma\":10}}\n",
    "}\n",
    "#initialize the model\n",
    "\n",
    "with pm.Model() as AR_ens:\n",
    "    pass\n",
    "\n",
    "#year interval for preindustrial data\n",
    "pi_year=soilmoisture.sel(year=slice(*pi_period)).year.values\n",
    "\n",
    "#add coordinates\n",
    "AR_ens.add_coord(\"year\",pi_year,mutable=True)\n",
    "AR_ens.add_coord(\"lags\",-1*(np.arange(nlags)+1))\n",
    "#AR.add_coord(\"index\",indices)\n",
    "\n",
    "year_recent = np.arange(recent_period[0],recent_period[1]+1)\n",
    "year_recent_lags = np.arange(recent_period[0]-nlags,recent_period[1]+1)\n",
    "\n",
    "    ## We need to have coords for the observations minus the lagged term to correctly centre the prediction step\n",
    "AR_ens.add_coords({\"year_recent_lags\": year_recent_lags})\n",
    "AR_ens.add_coords({\"year_recent\": year_recent})\n",
    "\n",
    "with AR_ens:\n",
    "    SST={}\n",
    "    SST_recent={}\n",
    "    \n",
    "    beta={}\n",
    "    response={}\n",
    "    for index in indices:\n",
    "        data=sst_fit.sel(index=index,year=slice(*pi_period))\n",
    "        meandata=data.mean(dim=\"ens\").values\n",
    "        stddata=data.std(dim=\"ens\").values\n",
    "        #prior on SST\n",
    "        SST[index] = pm.Normal(index, mu=0, sigma=10, shape=len(meandata),dims=\"year\") \n",
    "        likelihood_SST = pm.Normal(index+'_ensemble', mu=SST[index], sigma=stddata, observed=meandata)\n",
    "        # Also estimate recent data, but don't use it to estimate beta\n",
    "        rdata=sst_fit.sel(index=index,year=slice(*recent_period))\n",
    "        rmeandata=rdata.mean(dim=\"ens\").values\n",
    "        rstddata=rdata.std(dim=\"ens\").values\n",
    "        #prior on SST recent\n",
    "        SST_recent[index] = pm.Normal(index+\"_recent\", mu=0, sigma=10, shape=len(rmeandata),dims=\"year_recent\") \n",
    "        likelihood_SST_recent = pm.Normal(index+'_ensemble_recent', mu=SST_recent[index], sigma=rstddata, observed=rmeandata)\n",
    "        #SST[index]=pm.Deterministic(index,srng.normal(loc=SSTmu[index],scale=SSTsigma[index],size=len(data.year.values)))\n",
    "        \n",
    "        #Old code\n",
    "        # SST[index]=pm.MutableData(index,\\\n",
    "        #                 sst_fit.mean(dim=\"ens\").sel(index=index,year=slice(*pi_period)).values,\\\n",
    "        #                  dims=\"year\")\n",
    "        beta[index]=pm.Normal(\"beta_\"+index,priors[\"beta\"][index][\"mu\"],priors[\"beta\"][index][\"sigma\"])\n",
    "        response[index]=pm.Deterministic(\"response_to_\"+index,beta[index]*SST[index],dims=\"year\")\n",
    "    \n",
    "    smmean = pm.MutableData(\"smmean\",soilmoisture.mean(dim=\"ens\").sel(year=slice(*pi_period)).values,dims=\"year\")\n",
    "    smsigma = pm.MutableData(\"smsigma\",soilmoisture.std(dim=\"ens\").sel(year=slice(*pi_period)).values,dims=\"year\")\n",
    "    lag_coefs = pm.Normal(\"lag_coefs\", priors[\"lag_coefs\"][\"mu\"], priors[\"lag_coefs\"][\"sigma\"],dims=(\"lags\"))\n",
    "    sigma = pm.HalfNormal(\"sigma\", priors[\"sigma\"])\n",
    "    # We need one init variable for each lag, hence size is variable too\n",
    "    init = pm.Normal.dist(\n",
    "        priors[\"init\"][\"mu\"], \n",
    "        priors[\"init\"][\"sigma\"], \n",
    "        size=priors[\"init\"][\"size\"]\n",
    "    )\n",
    "    # Steps of the AR model minus the lags required\n",
    "    ar_n = pm.AR(\n",
    "        \"ar\",\n",
    "        lag_coefs,\n",
    "        sigma=sigma,\n",
    "        init_dist=init,\n",
    "        constant=False,\n",
    "        steps=pi_year.shape[0] - (priors[\"lag_coefs\"][\"size\"]),\n",
    "        dims=\"year\",\n",
    "    )\n",
    "    \n",
    "   \n",
    "    mean = pm.math.sum(pm.math.stack([response[index] for index in indices]),axis=0) + ar_n\n",
    "    smtrue=pm.Normal(\"pi_sm_true\", mu=mean,sigma=sigma,dims=(\"year\"))\n",
    "    # Likelihood of observing preindustrial soil moisture given \n",
    "    soilmoisture_obs = pm.Normal(\"pi_sm\",mu=smtrue,sigma=smsigma,observed = smmean,dims=(\"year\"))\n",
    "    idata_ar_ens = pm.sample_prior_predictive()\n",
    "    idata_ar_ens.extend(pm.sample(2000, random_seed=100, target_accept=0.95))\n",
    "    idata_ar_ens.extend(pm.sample_posterior_predictive(idata_ar_ens))"
   ]
  },
  {
   "cell_type": "markdown",
   "id": "2ab588b4-b8b0-4394-abe8-926d90d063a6",
   "metadata": {},
   "source": [
    "# SST relationships\n",
    "Warm NINO = wet soil\n",
    "Warm PDO = wet soil\n",
    "Warm GMT = dry soil\n",
    "AMO = unclear"
   ]
  },
  {
   "cell_type": "code",
   "execution_count": 11,
   "id": "f0d47da8-7931-4702-adb8-e5d173731c5b",
   "metadata": {},
   "outputs": [
    {
     "name": "stderr",
     "output_type": "stream",
     "text": [
      "Sampling: [ar_recent, pi_sm, recent_sm]\n"
     ]
    },
    {
     "data": {
      "text/html": [
       "\n",
       "<style>\n",
       "    /* Turns off some styling */\n",
       "    progress {\n",
       "        /* gets rid of default border in Firefox and Opera. */\n",
       "        border: none;\n",
       "        /* Needs to be in here for Safari polyfill so background images work as expected. */\n",
       "        background-size: auto;\n",
       "    }\n",
       "    progress:not([value]), progress:not([value])::-webkit-progress-bar {\n",
       "        background: repeating-linear-gradient(45deg, #7e7e7e, #7e7e7e 10px, #5c5c5c 10px, #5c5c5c 20px);\n",
       "    }\n",
       "    .progress-bar-interrupted, .progress-bar-interrupted::-webkit-progress-bar {\n",
       "        background: #F44336;\n",
       "    }\n",
       "</style>\n"
      ],
      "text/plain": [
       "<IPython.core.display.HTML object>"
      ]
     },
     "metadata": {},
     "output_type": "display_data"
    },
    {
     "data": {
      "text/html": [
       "\n",
       "    <div>\n",
       "      <progress value='8000' class='' max='8000' style='width:300px; height:20px; vertical-align: middle;'></progress>\n",
       "      100.00% [8000/8000 00:22&lt;00:00]\n",
       "    </div>\n",
       "    "
      ],
      "text/plain": [
       "<IPython.core.display.HTML object>"
      ]
     },
     "metadata": {},
     "output_type": "display_data"
    }
   ],
   "source": [
    "    \n",
    "#predict recent soil moisture from n lags: get a year series\n",
    "#smrecent_plus_lags=soilmoisture.sel(year=slice(recent_period[0]-nlags,recent_period[1]))\n",
    "year_recent = np.arange(recent_period[0],recent_period[1]+1)\n",
    "year_recent_lags = np.arange(recent_period[0]-nlags,recent_period[1]+1)\n",
    "with AR_ens:\n",
    "   \n",
    "    response_recent={}\n",
    "    for index in indices:\n",
    "       \n",
    "        response_recent[index]= pm.Deterministic(index+\"_response_recent\",beta[index]*SST_recent[index],dims=\"year_recent\")\n",
    "    \n",
    "    # condition on the learned values of the AR process\n",
    "    # initialize the future AR process at *exactly* the last observed value in the AR process using a Dirac delta\n",
    "    \n",
    "    ar_recent = pm.AR(\n",
    "        \"ar_recent\",\n",
    "        init_dist=pm.DiracDelta.dist(ar_n[..., -nlags]),\n",
    "        rho=lag_coefs,\n",
    "        sigma=sigma,\n",
    "        constant=False,\n",
    "        dims=\"year_recent_lags\",\n",
    "    )\n",
    "    \n",
    "    recentmean = ar_recent[nlags:]+ pm.math.sum(pm.math.stack([response_recent[index] for index in indices]),axis=0)\n",
    "    recent_sm = pm.Normal(\"recent_sm\", mu=recentmean, sigma=sigma, dims=\"year_recent\")\n",
    "    # use the updated values and predict outcomes and probabilities:\n",
    "    sm_preds = pm.sample_posterior_predictive(\n",
    "        idata_ar_ens, var_names=[\"pi_sm\", \"recent_sm\"]+[index+\"_response_recent\" for index in indices], predictions=True, random_seed=100\n",
    "    )"
   ]
  },
  {
   "cell_type": "code",
   "execution_count": 27,
   "id": "ced58987-660d-4694-b847-f58607c937a3",
   "metadata": {},
   "outputs": [
    {
     "data": {
      "text/plain": [
       "'predictions.nc'"
      ]
     },
     "execution_count": 27,
     "metadata": {},
     "output_type": "execute_result"
    }
   ],
   "source": [
    "sm_preds.to_netcdf(\"predictions.nc\",engine=\"h5netcdf\",groups=[\"predictions\"])"
   ]
  },
  {
   "cell_type": "code",
   "execution_count": 14,
   "id": "4232d3ab-86fa-423c-a38c-9e959a2314ef",
   "metadata": {},
   "outputs": [
    {
     "data": {
      "text/plain": [
       "'posteriors.nc'"
      ]
     },
     "execution_count": 14,
     "metadata": {},
     "output_type": "execute_result"
    }
   ],
   "source": [
    "idata_ar_ens.to_netcdf(\"posteriors.nc\",groups=[\"posterior\",\"posterior_predictive\"])"
   ]
  },
  {
   "cell_type": "code",
   "execution_count": null,
   "id": "f23d0c58-0f1c-42cf-a421-3de37dd58204",
   "metadata": {},
   "outputs": [],
   "source": []
  }
 ],
 "metadata": {
  "kernelspec": {
   "display_name": "Python 3 (ipykernel)",
   "language": "python",
   "name": "python3"
  },
  "language_info": {
   "codemirror_mode": {
    "name": "ipython",
    "version": 3
   },
   "file_extension": ".py",
   "mimetype": "text/x-python",
   "name": "python",
   "nbconvert_exporter": "python",
   "pygments_lexer": "ipython3",
   "version": "3.11.8"
  }
 },
 "nbformat": 4,
 "nbformat_minor": 5
}
